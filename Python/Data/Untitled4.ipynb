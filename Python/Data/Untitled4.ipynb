{
 "cells": [
  {
   "cell_type": "code",
   "execution_count": 14,
   "metadata": {
    "collapsed": true
   },
   "outputs": [],
   "source": [
    "def getDerivative(curve):\n",
    "    \tder = []\n",
    "    \tfor i in xrange(1,len(curve)-1):\n",
    "    \t\tder.append(100*(curve[i] - curve[i-1]))\n",
    "\n",
    "    \treturn der\n",
    "def getFeatures(points):\n",
    "\n",
    "    \tfeatures = []\n",
    "    \tfeatures.append(max(points))\n",
    "    \tfeatures.append(points.index(max(points)))\n",
    "    \tfeatures.append(min(points))\n",
    "    \tfeatures.append(points.index(min(points)))\n",
    "    \tfeatures.append(max(points) - min(points))\n",
    "\n",
    "    \tder = getDerivative(points)\n",
    "\n",
    "    \tfeatures.append(max(der))\n",
    "    \tfeatures.append(min(der))\n",
    "\n",
    "    \t# no of extremum\n",
    "    \tcount = 0\n",
    "    \tfor i in xrange(1,len(points)-2):\n",
    "    \t\tif points[i]>points[i-1] and points[i]>points[i+1]:\n",
    "    \t\t\tcount = count+1\n",
    "\n",
    "    \tfeatures.append(count)\n",
    "        return features"
   ]
  },
  {
   "cell_type": "code",
   "execution_count": 20,
   "metadata": {
    "collapsed": true
   },
   "outputs": [],
   "source": [
    "v = [1,2,3,4]"
   ]
  },
  {
   "cell_type": "code",
   "execution_count": 21,
   "metadata": {
    "collapsed": false
   },
   "outputs": [],
   "source": [
    "p = getFeatures(v)"
   ]
  },
  {
   "cell_type": "code",
   "execution_count": 22,
   "metadata": {
    "collapsed": false
   },
   "outputs": [
    {
     "data": {
      "text/plain": [
       "[4, 3, 1, 0, 3, 100, 100, 0]"
      ]
     },
     "execution_count": 22,
     "metadata": {},
     "output_type": "execute_result"
    }
   ],
   "source": [
    "p"
   ]
  },
  {
   "cell_type": "code",
   "execution_count": null,
   "metadata": {
    "collapsed": true
   },
   "outputs": [],
   "source": []
  }
 ],
 "metadata": {
  "kernelspec": {
   "display_name": "Python 2",
   "language": "python",
   "name": "python2"
  },
  "language_info": {
   "codemirror_mode": {
    "name": "ipython",
    "version": 2
   },
   "file_extension": ".py",
   "mimetype": "text/x-python",
   "name": "python",
   "nbconvert_exporter": "python",
   "pygments_lexer": "ipython2",
   "version": "2.7.6"
  }
 },
 "nbformat": 4,
 "nbformat_minor": 0
}
