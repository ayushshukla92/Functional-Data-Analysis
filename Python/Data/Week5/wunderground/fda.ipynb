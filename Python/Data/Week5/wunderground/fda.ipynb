{
 "cells": [
  {
   "cell_type": "code",
   "execution_count": 1,
   "metadata": {
    "collapsed": true
   },
   "outputs": [],
   "source": [
    "import csv\n",
    "import numpy as np\n",
    "import urllib2\n",
    "import pandas as pd\n",
    "from subprocess import call\n",
    "from scipy.interpolate import UnivariateSpline\n",
    "import matplotlib.pyplot as plt"
   ]
  },
  {
   "cell_type": "code",
   "execution_count": 2,
   "metadata": {
    "collapsed": false
   },
   "outputs": [],
   "source": [
    "stationID = {}\n",
    "with open('stationID.csv') as csvfile:\n",
    "    rows = csv.reader(csvfile)\n",
    "    for row in rows:\n",
    "        stationID[row[0]] = row[1]"
   ]
  },
  {
   "cell_type": "code",
   "execution_count": 3,
   "metadata": {
    "collapsed": false
   },
   "outputs": [
    {
     "data": {
      "text/plain": [
       "{'Boston': 'KBOS',\n",
       " 'Chennai': 'VOMM',\n",
       " 'Delhi': 'VIDP',\n",
       " 'Detroit': 'KDET',\n",
       " 'Edmonton': 'CYEG',\n",
       " 'Fredericton': 'CYFC',\n",
       " 'Halifax': 'CYHZ',\n",
       " 'Iqaluit': 'CYFB',\n",
       " 'Jaipur': 'VIJP',\n",
       " 'Jasper': 'CWJW',\n",
       " 'Juneau': 'KUNU',\n",
       " 'London': 'CYXU',\n",
       " 'Montreal': 'CYUL',\n",
       " 'NewYork': 'KLGA',\n",
       " 'NiagaraFalls': 'KIAG',\n",
       " 'Ottawa': 'CYOW',\n",
       " 'Regina': 'CYQR',\n",
       " 'Saskatoon': 'CYXE',\n",
       " 'Seattle': 'KSEA',\n",
       " 'Toronto': 'CYTZ',\n",
       " 'Vancouver': 'CYVR',\n",
       " 'Victoria': 'CYYJ',\n",
       " 'Whitehorse': 'CYXY',\n",
       " 'Windsor': 'CYQG',\n",
       " 'Winnipeg': 'CYWG',\n",
       " 'YellowKnife': 'CYZF'}"
      ]
     },
     "execution_count": 3,
     "metadata": {},
     "output_type": "execute_result"
    }
   ],
   "source": [
    "stationID"
   ]
  },
  {
   "cell_type": "code",
   "execution_count": 4,
   "metadata": {
    "collapsed": false
   },
   "outputs": [
    {
     "name": "stdout",
     "output_type": "stream",
     "text": [
      "Regina\n",
      "Fredericton\n",
      "Jaipur\n",
      "NewYork\n",
      "Whitehorse\n",
      "Winnipeg\n",
      "Vancouver\n",
      "Chennai\n",
      "Delhi\n",
      "Victoria\n",
      "Saskatoon\n",
      "Toronto\n",
      "Ottawa\n",
      "NiagaraFalls\n",
      "Detroit\n",
      "Montreal\n",
      "Iqaluit\n",
      "YellowKnife\n",
      "Boston\n",
      "Edmonton\n",
      "London\n",
      "Jasper\n",
      "Juneau\n",
      "Halifax\n",
      "Seattle\n",
      "Windsor\n"
     ]
    }
   ],
   "source": [
    "for key in stationID:\n",
    "    print key"
   ]
  },
  {
   "cell_type": "code",
   "execution_count": 5,
   "metadata": {
    "collapsed": true
   },
   "outputs": [],
   "source": [
    "initialYear = 2001\n",
    "endyear = 2003 "
   ]
  },
  {
   "cell_type": "code",
   "execution_count": 6,
   "metadata": {
    "collapsed": false
   },
   "outputs": [],
   "source": [
    "from weatherUtils.fda import fda"
   ]
  },
  {
   "cell_type": "code",
   "execution_count": 7,
   "metadata": {
    "collapsed": false
   },
   "outputs": [],
   "source": [
    "for key in stationID:\n",
    "    city = key\n",
    "    code = stationID[key]\n",
    "    curStationData = fda(initialYear,endyear,city,code)\n",
    "    curStationData.analyze()\n",
    "    "
   ]
  },
  {
   "cell_type": "code",
   "execution_count": null,
   "metadata": {
    "collapsed": true
   },
   "outputs": [],
   "source": []
  },
  {
   "cell_type": "code",
   "execution_count": null,
   "metadata": {
    "collapsed": true
   },
   "outputs": [],
   "source": []
  }
 ],
 "metadata": {
  "kernelspec": {
   "display_name": "Python 2",
   "language": "python",
   "name": "python2"
  },
  "language_info": {
   "codemirror_mode": {
    "name": "ipython",
    "version": 2
   },
   "file_extension": ".py",
   "mimetype": "text/x-python",
   "name": "python",
   "nbconvert_exporter": "python",
   "pygments_lexer": "ipython2",
   "version": "2.7.6"
  }
 },
 "nbformat": 4,
 "nbformat_minor": 0
}
