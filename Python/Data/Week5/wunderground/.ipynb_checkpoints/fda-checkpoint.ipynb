{
 "cells": [
  {
   "cell_type": "code",
   "execution_count": 25,
   "metadata": {
    "collapsed": true
   },
   "outputs": [],
   "source": [
    "import csv\n",
    "import numpy as np\n",
    "import urllib2\n",
    "import pandas as pd\n",
    "from subprocess import call\n",
    "from scipy.interpolate import UnivariateSpline\n",
    "import matplotlib.pyplot as plt"
   ]
  },
  {
   "cell_type": "code",
   "execution_count": 26,
   "metadata": {
    "collapsed": false
   },
   "outputs": [],
   "source": [
    "stationID = {}\n",
    "with open('stationID.csv') as csvfile:\n",
    "    rows = csv.reader(csvfile)\n",
    "    for row in rows:\n",
    "        stationID[row[0]] = row[1]"
   ]
  },
  {
   "cell_type": "code",
   "execution_count": 27,
   "metadata": {
    "collapsed": false
   },
   "outputs": [
    {
     "data": {
      "text/plain": [
       "{'Boston': 'KBOS',\n",
       " 'Chennai': 'VOMM',\n",
       " 'Delhi': 'VIDP',\n",
       " 'Detroit': 'KDET',\n",
       " 'Edmonton': 'CYEG',\n",
       " 'Fredericton': 'CYFC',\n",
       " 'Halifax': 'CYHZ',\n",
       " 'Iqaluit': 'CYFB',\n",
       " 'Jaipur': 'VIJP',\n",
       " 'Jasper': 'CWJW',\n",
       " 'Juneau': 'KUNU',\n",
       " 'London': 'CYXU',\n",
       " 'Montreal': 'CYUL',\n",
       " 'NewYork': 'KLGA',\n",
       " 'NiagaraFalls': 'KIAG',\n",
       " 'Ottawa': 'CYOW',\n",
       " 'Regina': 'CYQR',\n",
       " 'Saskatoon': 'CYXE',\n",
       " 'Seattle': 'KSEA',\n",
       " 'Toronto': 'CYTZ',\n",
       " 'Vancouver': 'CYVR',\n",
       " 'Victoria': 'CYYJ',\n",
       " 'Whitehorse': 'CYXY',\n",
       " 'Windsor': 'CYQG',\n",
       " 'Winnipeg': 'CYWG',\n",
       " 'YellowKnife': 'CYZF'}"
      ]
     },
     "execution_count": 27,
     "metadata": {},
     "output_type": "execute_result"
    }
   ],
   "source": [
    "stationID"
   ]
  },
  {
   "cell_type": "code",
   "execution_count": 28,
   "metadata": {
    "collapsed": false
   },
   "outputs": [
    {
     "name": "stdout",
     "output_type": "stream",
     "text": [
      "Regina\n",
      "Fredericton\n",
      "Jaipur\n",
      "NewYork\n",
      "Whitehorse\n",
      "Winnipeg\n",
      "Vancouver\n",
      "Chennai\n",
      "Delhi\n",
      "Victoria\n",
      "Saskatoon\n",
      "Toronto\n",
      "Ottawa\n",
      "NiagaraFalls\n",
      "Detroit\n",
      "Montreal\n",
      "Iqaluit\n",
      "YellowKnife\n",
      "Boston\n",
      "Edmonton\n",
      "London\n",
      "Jasper\n",
      "Juneau\n",
      "Halifax\n",
      "Seattle\n",
      "Windsor\n"
     ]
    }
   ],
   "source": [
    "for key in stationID:\n",
    "    print key"
   ]
  },
  {
   "cell_type": "code",
   "execution_count": 49,
   "metadata": {
    "collapsed": true
   },
   "outputs": [],
   "source": [
    "initialYear = 2001\n",
    "endyear = 2003 "
   ]
  },
  {
   "cell_type": "code",
   "execution_count": 50,
   "metadata": {
    "collapsed": false
   },
   "outputs": [],
   "source": [
    "from weatherUtils import fda"
   ]
  },
  {
   "cell_type": "code",
   "execution_count": 51,
   "metadata": {
    "collapsed": false
   },
   "outputs": [
    {
     "ename": "AttributeError",
     "evalue": "fda instance has no attribute 'endYear'",
     "output_type": "error",
     "traceback": [
      "\u001b[1;31m---------------------------------------------------------------------------\u001b[0m",
      "\u001b[1;31mAttributeError\u001b[0m                            Traceback (most recent call last)",
      "\u001b[1;32m<ipython-input-51-16856ee85379>\u001b[0m in \u001b[0;36m<module>\u001b[1;34m()\u001b[0m\n\u001b[0;32m      3\u001b[0m     \u001b[0mcode\u001b[0m \u001b[1;33m=\u001b[0m \u001b[0mstationID\u001b[0m\u001b[1;33m[\u001b[0m\u001b[0mkey\u001b[0m\u001b[1;33m]\u001b[0m\u001b[1;33m\u001b[0m\u001b[0m\n\u001b[0;32m      4\u001b[0m \u001b[1;33m\u001b[0m\u001b[0m\n\u001b[1;32m----> 5\u001b[1;33m     \u001b[0mcurStationData\u001b[0m \u001b[1;33m=\u001b[0m \u001b[0mfda\u001b[0m\u001b[1;33m.\u001b[0m\u001b[0mfda\u001b[0m\u001b[1;33m(\u001b[0m\u001b[0minitialYear\u001b[0m\u001b[1;33m,\u001b[0m\u001b[0mendyear\u001b[0m\u001b[1;33m,\u001b[0m\u001b[0mcity\u001b[0m\u001b[1;33m,\u001b[0m\u001b[0mcode\u001b[0m\u001b[1;33m)\u001b[0m\u001b[1;33m\u001b[0m\u001b[0m\n\u001b[0m\u001b[0;32m      6\u001b[0m \u001b[1;33m\u001b[0m\u001b[0m\n",
      "\u001b[1;32m/home/ayush/Desktop/Project/Python/Data/Week5/wunderground/weatherUtils/fda.py\u001b[0m in \u001b[0;36m__init__\u001b[1;34m(self, initialYear, endyear, city, code)\u001b[0m\n\u001b[0;32m     14\u001b[0m         \u001b[0mself\u001b[0m\u001b[1;33m.\u001b[0m\u001b[0mmean\u001b[0m \u001b[1;33m=\u001b[0m \u001b[1;36m0.0\u001b[0m\u001b[1;33m\u001b[0m\u001b[0m\n\u001b[0;32m     15\u001b[0m         \u001b[0mself\u001b[0m\u001b[1;33m.\u001b[0m\u001b[0mstd\u001b[0m \u001b[1;33m=\u001b[0m \u001b[1;36m0.0\u001b[0m\u001b[1;33m\u001b[0m\u001b[0m\n\u001b[1;32m---> 16\u001b[1;33m         \u001b[0mself\u001b[0m\u001b[1;33m.\u001b[0m\u001b[0myears\u001b[0m \u001b[1;33m=\u001b[0m \u001b[0mself\u001b[0m\u001b[1;33m.\u001b[0m\u001b[0mendYear\u001b[0m \u001b[1;33m-\u001b[0m \u001b[0mself\u001b[0m\u001b[1;33m.\u001b[0m\u001b[0minitialYear\u001b[0m \u001b[1;33m+\u001b[0m \u001b[1;36m1\u001b[0m\u001b[1;33m\u001b[0m\u001b[0m\n\u001b[0m\u001b[0;32m     17\u001b[0m \u001b[1;33m\u001b[0m\u001b[0m\n\u001b[0;32m     18\u001b[0m \u001b[1;33m\u001b[0m\u001b[0m\n",
      "\u001b[1;31mAttributeError\u001b[0m: fda instance has no attribute 'endYear'"
     ]
    }
   ],
   "source": [
    "for key in stationID:\n",
    "    city = key\n",
    "    code = stationID[key]\n",
    "    \n",
    "    curStationData = fda.fda(initialYear,endyear,city,code)\n",
    "    "
   ]
  },
  {
   "cell_type": "code",
   "execution_count": null,
   "metadata": {
    "collapsed": true
   },
   "outputs": [],
   "source": []
  }
 ],
 "metadata": {
  "kernelspec": {
   "display_name": "Python 2",
   "language": "python",
   "name": "python2"
  },
  "language_info": {
   "codemirror_mode": {
    "name": "ipython",
    "version": 2
   },
   "file_extension": ".py",
   "mimetype": "text/x-python",
   "name": "python",
   "nbconvert_exporter": "python",
   "pygments_lexer": "ipython2",
   "version": "2.7.6"
  }
 },
 "nbformat": 4,
 "nbformat_minor": 0
}
