{
 "cells": [
  {
   "cell_type": "code",
   "execution_count": 1,
   "metadata": {
    "collapsed": true
   },
   "outputs": [],
   "source": [
    "import numpy as np\n",
    "import urllib2\n",
    "import csv\n",
    "import pandas as pd\n",
    "from subprocess import call\n",
    "from scipy.interpolate import UnivariateSpline\n",
    "import matplotlib.pyplot as plt\n",
    "\n",
    "\n",
    "def makeCSV(city,year):\n",
    "\tcsvfile = urllib2.urlopen('http://climate.weather.gc.ca/climateData/bulkdata_e.html?format=csv&stationID=5051&Year='+year+'&Month=1&Day=1&timeframe=2&submit=Download+Data')\n",
    "\tcsvResponse = csvfile.read()\n",
    "\n",
    "\ttarget = open(\"temp.csv\", 'w')\n",
    "\n",
    "\ttarget.write(csvResponse)\n",
    "\n",
    "\tmainRows = []\n",
    "\twith open('temp.csv') as csvfile:\n",
    "\t    csvfile = csv.reader(csvfile)\n",
    "\t    for row_no,row in enumerate(csvfile):\n",
    "\t        if row_no > 24:\n",
    "\t            mainRows.append(row)\n",
    "\n",
    "\tcall([\"rm\",\"temp.csv\"])\n",
    "\n",
    "\tfilename = city+year+'.csv'\n",
    "\twith open(filename, 'w') as fp:\n",
    "\t    a = csv.writer(fp, delimiter=',')\n",
    "\t    a.writerows(mainRows)\n",
    "\t        \n",
    "def getFiveYearsMean(city,year):\n",
    "\tfilename = city+year+'.csv'\n",
    "\tdata = pd.read_csv(filename)\n",
    "\n",
    "\tmeanTempDay = data[data.columns[9]]\n",
    "\n",
    "\tl = []\n",
    "\tfor i in xrange(24):\n",
    "\t    l.append( (meanTempDay[15*i:15*i+15].mean() ) )\n",
    "\n",
    "\treturn pd.DataFrame(l)/5\n",
    "\n",
    "def getBSplineCurve(fifteenDaysMean,city,syear,endyear):\n",
    "\tx = np.linspace(0,23,24)\n",
    "\ty = np.array(l)\n",
    "\tplt.plot(x, y, 'ro', ms= 5)\n",
    "\tplt.xlabel('15 days mean')\n",
    "\tplt.ylabel('temperature')\n",
    "\tplt.title(city+syear+'-'+endyear)\n",
    "\n",
    "\tspl = UnivariateSpline(x, y)\n",
    "\txs = np.linspace(0, 23, 1000)\n",
    "\tplt.plot(xs, spl(xs), 'g', lw=3)\n",
    "\n",
    "\tplt.text(1, meanTempDay.max()-5,'mu = '+ str( round(meanTempDay.mean(),2) )+' sigma = '+ str( round(meanTempDay.sd(),2) ), horizontalalignment='left',\n",
    "     verticalalignment='center')\n",
    "\tplt.show()\n",
    "\n"
   ]
  },
  {
   "cell_type": "code",
   "execution_count": 2,
   "metadata": {
    "collapsed": true
   },
   "outputs": [],
   "source": [
    "\n",
    "fifteenDaysMean = None\n",
    "for curYear in range(1930,1936):\n",
    "\tif fifteenDaysMean is None:\n",
    "\t\tfifteenDaysMean = getFiveYearsMean(\"toronto\",str(curYear))\n",
    "\telse:\n",
    "\t\tfifteenDaysMean = fifteenDaysMean + getFiveYearsMean(\"toronto\",str(curYear))\n",
    "\t\n",
    "\n",
    "\n",
    "\n",
    "\n",
    "    "
   ]
  },
  {
   "cell_type": "code",
   "execution_count": 3,
   "metadata": {
    "collapsed": true
   },
   "outputs": [],
   "source": [
    "plt.show()"
   ]
  },
  {
   "cell_type": "code",
   "execution_count": null,
   "metadata": {
    "collapsed": true
   },
   "outputs": [],
   "source": []
  }
 ],
 "metadata": {
  "kernelspec": {
   "display_name": "Python 2",
   "language": "python",
   "name": "python2"
  },
  "language_info": {
   "codemirror_mode": {
    "name": "ipython",
    "version": 2
   },
   "file_extension": ".py",
   "mimetype": "text/x-python",
   "name": "python",
   "nbconvert_exporter": "python",
   "pygments_lexer": "ipython2",
   "version": "2.7.6"
  }
 },
 "nbformat": 4,
 "nbformat_minor": 0
}
