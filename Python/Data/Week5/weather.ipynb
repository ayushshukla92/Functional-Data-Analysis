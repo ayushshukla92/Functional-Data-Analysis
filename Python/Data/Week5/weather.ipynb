{
 "cells": [
  {
   "cell_type": "code",
   "execution_count": 20,
   "metadata": {
    "collapsed": false
   },
   "outputs": [
    {
     "data": {
      "text/plain": [
       "'CYTZ'"
      ]
     },
     "execution_count": 20,
     "metadata": {},
     "output_type": "execute_result"
    }
   ],
   "source": [
    "import numpy as np\n",
    "import urllib2\n",
    "import csv\n",
    "import pandas as pd\n",
    "from subprocess import call\n",
    "from scipy.interpolate import UnivariateSpline\n",
    "import matplotlib.pyplot as plt\n",
    "\n",
    "\n",
    "mean = 0.0\n",
    "std = 0.0\n",
    "# initialYear = int(input(\"Enter initialYear: \"))\n",
    "# endyear = int(input(\"Enter endyear: \"))\n",
    "initialYear = 2001\n",
    "endyear = 2004\n",
    "years = endyear - initialYear + 1\n",
    "\n",
    "city = \"toronto\"\n",
    "code = \"CYTZ\"\n",
    "code"
   ]
  },
  {
   "cell_type": "code",
   "execution_count": 21,
   "metadata": {
    "collapsed": true
   },
   "outputs": [],
   "source": [
    "def makeCSV(year):\n",
    "    csvfile = urllib2.urlopen('http://www.wunderground.com/history/airport/'+code+'/'+str(year)+'/1/1/CustomHistory.html?dayend=31&monthend=12&yearend=2015&req_city=&req_state=&req_statename=&reqdb.zip=&reqdb.magic=&reqdb.wmo=&format=1')\n",
    "    csvResponse = csvfile.read()\n",
    "    target = open(\"temp.csv\", 'w')\n",
    "    target.write(csvResponse)\n",
    "\n",
    "\n",
    "    mainRows = []\n",
    "    with open('temp.csv') as csvfile:\n",
    "        csvfile = csv.reader(csvfile)\n",
    "        for row_no,row in enumerate(csvfile):\n",
    "            if row_no > 0:\n",
    "                mainRows.append(row)\n",
    "    \n",
    "    call([\"rm\",\"temp.csv\"])\n",
    "\n",
    "    filename = city+str(year)+'.csv'\n",
    "    with open(filename, 'w') as fp:\n",
    "        a = csv.writer(fp, delimiter=',')\n",
    "        a.writerows(mainRows)\n",
    "            \n",
    "def getFiveYearsMean(year):\n",
    "    filename = city+year+'.csv'\n",
    "    data = pd.read_csv(filename)\n",
    "    global mean\n",
    "    global std\n",
    "\n",
    "    meanTempDay = data[data.columns[2]]\n",
    "    mean =mean + round(meanTempDay.mean(),2)/years\n",
    "    std = std + round(meanTempDay.std(),2)/years\n",
    "    # maxT = meanTempDay.max()\n",
    "\n",
    "    l = []\n",
    "    for i in xrange(24):\n",
    "        l.append( (meanTempDay[15*i:15*i+15].mean() ) )\n",
    "\n",
    "    return pd.DataFrame(l)/years\n",
    "\n",
    "\n",
    "def getBSplineCurve(fifteenDaysMean):\n",
    "    x = np.linspace(0,23,24)\n",
    "    y = np.array(fifteenDaysMean)\n",
    "    plt.plot(x, y,'ro', ms= 5)\n",
    "    plt.xlabel('15 days mean')\n",
    "    plt.ylabel('temperature')\n",
    "    plt.title(city+str(initialYear)+'-'+str(endyear))\n",
    "\n",
    "    spl = UnivariateSpline(x, y)\n",
    "    xs = np.linspace(0, 23, 1000)\n",
    "    plt.plot(xs, spl(xs), 'g', lw=3)\n",
    "\n",
    "    plt.text(1,fifteenDaysMean.mean()*1.5,'mu = '+ str(mean)+' sigma = '+ str(std), horizontalalignment='left',\n",
    "     verticalalignment='center')\n",
    "    plt.savefig(city+str(initialYear)+'.png')\n",
    "    plt.show()\n",
    "    "
   ]
  },
  {
   "cell_type": "code",
   "execution_count": 22,
   "metadata": {
    "collapsed": false
   },
   "outputs": [],
   "source": [
    "for curYear in range(initialYear,endyear+1):\n",
    "    makeCSV(curYear)\n",
    "    "
   ]
  },
  {
   "cell_type": "code",
   "execution_count": 23,
   "metadata": {
    "collapsed": true
   },
   "outputs": [],
   "source": [
    "fifteenDaysMean = None\n",
    "for curYear in range(initialYear,endyear+1):\n",
    "    if fifteenDaysMean is None:\n",
    "        fifteenDaysMean = getFiveYearsMean(str(curYear))\n",
    "    else:\n",
    "        fifteenDaysMean = fifteenDaysMean + getFiveYearsMean(str(curYear))"
   ]
  },
  {
   "cell_type": "code",
   "execution_count": 24,
   "metadata": {
    "collapsed": false
   },
   "outputs": [
    {
     "data": {
      "text/html": [
       "<div style=\"max-height:1000px;max-width:1500px;overflow:auto;\">\n",
       "<table border=\"1\" class=\"dataframe\">\n",
       "  <thead>\n",
       "    <tr style=\"text-align: right;\">\n",
       "      <th></th>\n",
       "      <th>0</th>\n",
       "    </tr>\n",
       "  </thead>\n",
       "  <tbody>\n",
       "    <tr>\n",
       "      <th>0 </th>\n",
       "      <td> -3.150000</td>\n",
       "    </tr>\n",
       "    <tr>\n",
       "      <th>1 </th>\n",
       "      <td> -5.266667</td>\n",
       "    </tr>\n",
       "    <tr>\n",
       "      <th>2 </th>\n",
       "      <td> -2.933333</td>\n",
       "    </tr>\n",
       "    <tr>\n",
       "      <th>3 </th>\n",
       "      <td> -2.516667</td>\n",
       "    </tr>\n",
       "    <tr>\n",
       "      <th>4 </th>\n",
       "      <td> -1.050000</td>\n",
       "    </tr>\n",
       "    <tr>\n",
       "      <th>5 </th>\n",
       "      <td>  2.166667</td>\n",
       "    </tr>\n",
       "    <tr>\n",
       "      <th>6 </th>\n",
       "      <td>  4.200000</td>\n",
       "    </tr>\n",
       "    <tr>\n",
       "      <th>7 </th>\n",
       "      <td>  7.783333</td>\n",
       "    </tr>\n",
       "    <tr>\n",
       "      <th>8 </th>\n",
       "      <td> 10.916667</td>\n",
       "    </tr>\n",
       "    <tr>\n",
       "      <th>9 </th>\n",
       "      <td> 11.666667</td>\n",
       "    </tr>\n",
       "    <tr>\n",
       "      <th>10</th>\n",
       "      <td> 14.916667</td>\n",
       "    </tr>\n",
       "    <tr>\n",
       "      <th>11</th>\n",
       "      <td> 19.050000</td>\n",
       "    </tr>\n",
       "    <tr>\n",
       "      <th>12</th>\n",
       "      <td> 19.550000</td>\n",
       "    </tr>\n",
       "    <tr>\n",
       "      <th>13</th>\n",
       "      <td> 20.400000</td>\n",
       "    </tr>\n",
       "    <tr>\n",
       "      <th>14</th>\n",
       "      <td> 22.033333</td>\n",
       "    </tr>\n",
       "    <tr>\n",
       "      <th>15</th>\n",
       "      <td> 20.472619</td>\n",
       "    </tr>\n",
       "    <tr>\n",
       "      <th>16</th>\n",
       "      <td> 19.766667</td>\n",
       "    </tr>\n",
       "    <tr>\n",
       "      <th>17</th>\n",
       "      <td> 17.316667</td>\n",
       "    </tr>\n",
       "    <tr>\n",
       "      <th>18</th>\n",
       "      <td> 12.716667</td>\n",
       "    </tr>\n",
       "    <tr>\n",
       "      <th>19</th>\n",
       "      <td>  8.400000</td>\n",
       "    </tr>\n",
       "    <tr>\n",
       "      <th>20</th>\n",
       "      <td>  6.616667</td>\n",
       "    </tr>\n",
       "    <tr>\n",
       "      <th>21</th>\n",
       "      <td>  5.283333</td>\n",
       "    </tr>\n",
       "    <tr>\n",
       "      <th>22</th>\n",
       "      <td>  1.616667</td>\n",
       "    </tr>\n",
       "    <tr>\n",
       "      <th>23</th>\n",
       "      <td> -0.033333</td>\n",
       "    </tr>\n",
       "  </tbody>\n",
       "</table>\n",
       "<p>24 rows × 1 columns</p>\n",
       "</div>"
      ],
      "text/plain": [
       "            0\n",
       "0   -3.150000\n",
       "1   -5.266667\n",
       "2   -2.933333\n",
       "3   -2.516667\n",
       "4   -1.050000\n",
       "5    2.166667\n",
       "6    4.200000\n",
       "7    7.783333\n",
       "8   10.916667\n",
       "9   11.666667\n",
       "10  14.916667\n",
       "11  19.050000\n",
       "12  19.550000\n",
       "13  20.400000\n",
       "14  22.033333\n",
       "15  20.472619\n",
       "16  19.766667\n",
       "17  17.316667\n",
       "18  12.716667\n",
       "19   8.400000\n",
       "20   6.616667\n",
       "21   5.283333\n",
       "22   1.616667\n",
       "23  -0.033333\n",
       "\n",
       "[24 rows x 1 columns]"
      ]
     },
     "execution_count": 24,
     "metadata": {},
     "output_type": "execute_result"
    }
   ],
   "source": [
    "fifteenDaysMean"
   ]
  },
  {
   "cell_type": "code",
   "execution_count": 25,
   "metadata": {
    "collapsed": true
   },
   "outputs": [],
   "source": [
    "getBSplineCurve(fifteenDaysMean)"
   ]
  },
  {
   "cell_type": "code",
   "execution_count": null,
   "metadata": {
    "collapsed": true
   },
   "outputs": [],
   "source": []
  }
 ],
 "metadata": {
  "kernelspec": {
   "display_name": "Python 2",
   "language": "python",
   "name": "python2"
  },
  "language_info": {
   "codemirror_mode": {
    "name": "ipython",
    "version": 2
   },
   "file_extension": ".py",
   "mimetype": "text/x-python",
   "name": "python",
   "nbconvert_exporter": "python",
   "pygments_lexer": "ipython2",
   "version": "2.7.6"
  }
 },
 "nbformat": 4,
 "nbformat_minor": 0
}
