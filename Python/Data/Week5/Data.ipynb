{
 "cells": [
  {
   "cell_type": "code",
   "execution_count": 98,
   "metadata": {
    "collapsed": true
   },
   "outputs": [],
   "source": [
    "import urllib2\n",
    "import csv\n",
    "\n",
    "csvfile = urllib2.urlopen('http://climate.weather.gc.ca/climateData/bulkdata_e.html?format=csv&stationID=5051&Year=1931&Month=1&Day=1&timeframe=2&submit=Download+Data')\n",
    "\n",
    "csvResponse = csvfile.read()\n",
    "\n",
    "\n",
    "target = open(\"test.csv\", 'w')\n",
    "\n",
    "target.write(csvResponse)\n",
    "\n",
    "mainRows = []\n",
    "with open('test.csv') as csvfile:\n",
    "    csvfile = csv.reader(csvfile)\n",
    "    for row_no,row in enumerate(csvfile):\n",
    "        if row_no > 24:\n",
    "            mainRows.append(row)\n",
    "\n"
   ]
  },
  {
   "cell_type": "code",
   "execution_count": 99,
   "metadata": {
    "collapsed": false
   },
   "outputs": [],
   "source": [
    "with open('test1.csv', 'w') as fp:\n",
    "    a = csv.writer(fp, delimiter=',')\n",
    "    a.writerows(mainRows)\n",
    "        "
   ]
  },
  {
   "cell_type": "code",
   "execution_count": null,
   "metadata": {
    "collapsed": true
   },
   "outputs": [],
   "source": []
  }
 ],
 "metadata": {
  "kernelspec": {
   "display_name": "Python 2",
   "language": "python",
   "name": "python2"
  },
  "language_info": {
   "codemirror_mode": {
    "name": "ipython",
    "version": 2
   },
   "file_extension": ".py",
   "mimetype": "text/x-python",
   "name": "python",
   "nbconvert_exporter": "python",
   "pygments_lexer": "ipython2",
   "version": "2.7.6"
  }
 },
 "nbformat": 4,
 "nbformat_minor": 0
}
